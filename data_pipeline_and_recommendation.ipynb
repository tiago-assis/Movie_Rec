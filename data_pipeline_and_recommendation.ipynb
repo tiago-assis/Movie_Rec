{
 "cells": [
  {
   "cell_type": "code",
   "execution_count": 1,
   "metadata": {},
   "outputs": [],
   "source": [
    "import pandas as pd\n",
    "import numpy as np\n",
    "from scipy.sparse import csc_matrix, csr_matrix, coo_matrix, hstack, save_npz\n",
    "from sklearn.feature_extraction.text import TfidfVectorizer\n",
    "from sklearn.preprocessing import OneHotEncoder\n",
    "from sklearn.metrics.pairwise import cosine_similarity\n",
    "import ast\n",
    "import gc\n",
    "import os"
   ]
  },
  {
   "cell_type": "markdown",
   "metadata": {},
   "source": [
    "----"
   ]
  },
  {
   "cell_type": "code",
   "execution_count": 2,
   "metadata": {},
   "outputs": [
    {
     "data": {
      "text/plain": [
       "Index(['adult', 'belongs_to_collection', 'budget', 'genres', 'homepage', 'id',\n",
       "       'imdb_id', 'original_language', 'original_title', 'overview',\n",
       "       'popularity', 'poster_path', 'production_companies',\n",
       "       'production_countries', 'release_date', 'revenue', 'runtime',\n",
       "       'spoken_languages', 'status', 'tagline', 'title', 'video',\n",
       "       'vote_average', 'vote_count'],\n",
       "      dtype='object')"
      ]
     },
     "execution_count": 2,
     "metadata": {},
     "output_type": "execute_result"
    }
   ],
   "source": [
    "ratings = pd.read_csv(\"raw_data/ratings_small.csv\")[['rating', 'userId', 'movieId']]\n",
    "\n",
    "movie_links = pd.read_csv(\"raw_data/links_small.csv\")\n",
    "movie_links.dropna(inplace=True)\n",
    "movie_links.drop_duplicates(subset='movieId', inplace=True)\n",
    "movie_links.drop_duplicates(subset='tmdbId', inplace=True)\n",
    "movie_links = movie_links.astype(int)\n",
    "\n",
    "movies_metadata = pd.read_csv(\"raw_data/movies_metadata.csv\", low_memory=False, encoding=\"utf-8\")\n",
    "movies_metadata.dropna(subset='id', inplace=True)\n",
    "movies_metadata.drop_duplicates(subset='id', inplace=True)\n",
    "movies_metadata.drop([19730, 29503, 35587], inplace=True)\n",
    "movies_metadata['id'] = movies_metadata['id'].astype(int)\n",
    "movies_metadata.columns"
   ]
  },
  {
   "cell_type": "code",
   "execution_count": 3,
   "metadata": {},
   "outputs": [],
   "source": [
    "movies_metadata = movies_metadata[['id', 'adult', 'genres', 'original_title', 'overview', 'production_companies', 'release_date', 'runtime', 'spoken_languages', 'vote_average', 'vote_count']]\n",
    "movies_metadata.rename(columns={'id': 'tmdbId'}, inplace=True)\n",
    "movie_links.drop_duplicates(subset='tmdbId', inplace=True)"
   ]
  },
  {
   "cell_type": "code",
   "execution_count": 4,
   "metadata": {},
   "outputs": [
    {
     "data": {
      "text/html": [
       "<div>\n",
       "<style scoped>\n",
       "    .dataframe tbody tr th:only-of-type {\n",
       "        vertical-align: middle;\n",
       "    }\n",
       "\n",
       "    .dataframe tbody tr th {\n",
       "        vertical-align: top;\n",
       "    }\n",
       "\n",
       "    .dataframe thead th {\n",
       "        text-align: right;\n",
       "    }\n",
       "</style>\n",
       "<table border=\"1\" class=\"dataframe\">\n",
       "  <thead>\n",
       "    <tr style=\"text-align: right;\">\n",
       "      <th></th>\n",
       "      <th>movieId</th>\n",
       "      <th>imdbId</th>\n",
       "      <th>tmdbId</th>\n",
       "      <th>adult</th>\n",
       "      <th>genres</th>\n",
       "      <th>original_title</th>\n",
       "      <th>overview</th>\n",
       "      <th>production_companies</th>\n",
       "      <th>release_date</th>\n",
       "      <th>runtime</th>\n",
       "      <th>spoken_languages</th>\n",
       "      <th>vote_average</th>\n",
       "      <th>vote_count</th>\n",
       "    </tr>\n",
       "  </thead>\n",
       "  <tbody>\n",
       "    <tr>\n",
       "      <th>0</th>\n",
       "      <td>1</td>\n",
       "      <td>114709</td>\n",
       "      <td>862</td>\n",
       "      <td>False</td>\n",
       "      <td>[{'id': 16, 'name': 'Animation'}, {'id': 35, '...</td>\n",
       "      <td>Toy Story</td>\n",
       "      <td>Led by Woody, Andy's toys live happily in his ...</td>\n",
       "      <td>[{'name': 'Pixar Animation Studios', 'id': 3}]</td>\n",
       "      <td>1995-10-30</td>\n",
       "      <td>81.0</td>\n",
       "      <td>[{'iso_639_1': 'en', 'name': 'English'}]</td>\n",
       "      <td>7.7</td>\n",
       "      <td>5415.0</td>\n",
       "    </tr>\n",
       "    <tr>\n",
       "      <th>1</th>\n",
       "      <td>2</td>\n",
       "      <td>113497</td>\n",
       "      <td>8844</td>\n",
       "      <td>False</td>\n",
       "      <td>[{'id': 12, 'name': 'Adventure'}, {'id': 14, '...</td>\n",
       "      <td>Jumanji</td>\n",
       "      <td>When siblings Judy and Peter discover an encha...</td>\n",
       "      <td>[{'name': 'TriStar Pictures', 'id': 559}, {'na...</td>\n",
       "      <td>1995-12-15</td>\n",
       "      <td>104.0</td>\n",
       "      <td>[{'iso_639_1': 'en', 'name': 'English'}, {'iso...</td>\n",
       "      <td>6.9</td>\n",
       "      <td>2413.0</td>\n",
       "    </tr>\n",
       "  </tbody>\n",
       "</table>\n",
       "</div>"
      ],
      "text/plain": [
       "   movieId  imdbId  tmdbId  adult  \\\n",
       "0        1  114709     862  False   \n",
       "1        2  113497    8844  False   \n",
       "\n",
       "                                              genres original_title  \\\n",
       "0  [{'id': 16, 'name': 'Animation'}, {'id': 35, '...      Toy Story   \n",
       "1  [{'id': 12, 'name': 'Adventure'}, {'id': 14, '...        Jumanji   \n",
       "\n",
       "                                            overview  \\\n",
       "0  Led by Woody, Andy's toys live happily in his ...   \n",
       "1  When siblings Judy and Peter discover an encha...   \n",
       "\n",
       "                                production_companies release_date  runtime  \\\n",
       "0     [{'name': 'Pixar Animation Studios', 'id': 3}]   1995-10-30     81.0   \n",
       "1  [{'name': 'TriStar Pictures', 'id': 559}, {'na...   1995-12-15    104.0   \n",
       "\n",
       "                                    spoken_languages  vote_average  vote_count  \n",
       "0           [{'iso_639_1': 'en', 'name': 'English'}]           7.7      5415.0  \n",
       "1  [{'iso_639_1': 'en', 'name': 'English'}, {'iso...           6.9      2413.0  "
      ]
     },
     "execution_count": 4,
     "metadata": {},
     "output_type": "execute_result"
    }
   ],
   "source": [
    "movie_links = movie_links[movie_links['movieId'].isin(ratings['movieId'])]\n",
    "movies_metadata = pd.merge(movie_links, movies_metadata, on='tmdbId')\n",
    "movies_metadata.drop_duplicates(subset='movieId', inplace=True)\n",
    "ratings = ratings[ratings['movieId'].isin(movies_metadata['movieId'])]\n",
    "\n",
    "ratings.sort_values(by='movieId', inplace=True)\n",
    "movies_metadata.sort_values(by='movieId', inplace=True)\n",
    "\n",
    "original_movies_metadata = movies_metadata.copy()\n",
    "\n",
    "movies_metadata.head(2)"
   ]
  },
  {
   "cell_type": "code",
   "execution_count": 5,
   "metadata": {},
   "outputs": [
    {
     "data": {
      "text/plain": [
       "((9025,), (9025,))"
      ]
     },
     "execution_count": 5,
     "metadata": {},
     "output_type": "execute_result"
    }
   ],
   "source": [
    "ratings['movieId'].unique().shape, movies_metadata['movieId'].unique().shape"
   ]
  },
  {
   "cell_type": "code",
   "execution_count": 6,
   "metadata": {},
   "outputs": [],
   "source": [
    "movies_metadata.drop(columns=['movieId', 'imdbId', 'tmdbId'], inplace=True)"
   ]
  },
  {
   "cell_type": "code",
   "execution_count": 7,
   "metadata": {},
   "outputs": [
    {
     "data": {
      "text/html": [
       "<div>\n",
       "<style scoped>\n",
       "    .dataframe tbody tr th:only-of-type {\n",
       "        vertical-align: middle;\n",
       "    }\n",
       "\n",
       "    .dataframe tbody tr th {\n",
       "        vertical-align: top;\n",
       "    }\n",
       "\n",
       "    .dataframe thead th {\n",
       "        text-align: right;\n",
       "    }\n",
       "</style>\n",
       "<table border=\"1\" class=\"dataframe\">\n",
       "  <thead>\n",
       "    <tr style=\"text-align: right;\">\n",
       "      <th></th>\n",
       "      <th>runtime</th>\n",
       "      <th>vote_average</th>\n",
       "      <th>vote_count</th>\n",
       "    </tr>\n",
       "  </thead>\n",
       "  <tbody>\n",
       "    <tr>\n",
       "      <th>count</th>\n",
       "      <td>8964.000000</td>\n",
       "      <td>8964.000000</td>\n",
       "      <td>8964.000000</td>\n",
       "    </tr>\n",
       "    <tr>\n",
       "      <th>mean</th>\n",
       "      <td>105.958724</td>\n",
       "      <td>6.396408</td>\n",
       "      <td>443.703034</td>\n",
       "    </tr>\n",
       "    <tr>\n",
       "      <th>std</th>\n",
       "      <td>29.988813</td>\n",
       "      <td>0.929470</td>\n",
       "      <td>1001.384331</td>\n",
       "    </tr>\n",
       "    <tr>\n",
       "      <th>min</th>\n",
       "      <td>2.000000</td>\n",
       "      <td>1.000000</td>\n",
       "      <td>1.000000</td>\n",
       "    </tr>\n",
       "    <tr>\n",
       "      <th>25%</th>\n",
       "      <td>93.000000</td>\n",
       "      <td>5.800000</td>\n",
       "      <td>30.000000</td>\n",
       "    </tr>\n",
       "    <tr>\n",
       "      <th>50%</th>\n",
       "      <td>102.000000</td>\n",
       "      <td>6.500000</td>\n",
       "      <td>99.000000</td>\n",
       "    </tr>\n",
       "    <tr>\n",
       "      <th>75%</th>\n",
       "      <td>115.000000</td>\n",
       "      <td>7.100000</td>\n",
       "      <td>370.000000</td>\n",
       "    </tr>\n",
       "    <tr>\n",
       "      <th>max</th>\n",
       "      <td>1140.000000</td>\n",
       "      <td>10.000000</td>\n",
       "      <td>14075.000000</td>\n",
       "    </tr>\n",
       "  </tbody>\n",
       "</table>\n",
       "</div>"
      ],
      "text/plain": [
       "           runtime  vote_average    vote_count\n",
       "count  8964.000000   8964.000000   8964.000000\n",
       "mean    105.958724      6.396408    443.703034\n",
       "std      29.988813      0.929470   1001.384331\n",
       "min       2.000000      1.000000      1.000000\n",
       "25%      93.000000      5.800000     30.000000\n",
       "50%     102.000000      6.500000     99.000000\n",
       "75%     115.000000      7.100000    370.000000\n",
       "max    1140.000000     10.000000  14075.000000"
      ]
     },
     "execution_count": 7,
     "metadata": {},
     "output_type": "execute_result"
    }
   ],
   "source": [
    "movies_metadata[(movies_metadata['runtime'] > 0) & (movies_metadata['vote_average'] >= 1)].describe()"
   ]
  },
  {
   "cell_type": "code",
   "execution_count": 8,
   "metadata": {},
   "outputs": [],
   "source": [
    "runtime_median = movies_metadata[movies_metadata['runtime'] > 0]['runtime'].median()\n",
    "vote_avg_mean = movies_metadata[movies_metadata['vote_average'] >= 1]['vote_average'].mean()\n",
    "vote_count_median = movies_metadata[movies_metadata['vote_count'] > 0]['vote_count'].median()"
   ]
  },
  {
   "cell_type": "code",
   "execution_count": 9,
   "metadata": {},
   "outputs": [
    {
     "name": "stdout",
     "output_type": "stream",
     "text": [
      "<class 'pandas.core.frame.DataFrame'>\n",
      "RangeIndex: 9025 entries, 0 to 9024\n",
      "Data columns (total 10 columns):\n",
      " #   Column                Non-Null Count  Dtype  \n",
      "---  ------                --------------  -----  \n",
      " 0   adult                 9025 non-null   object \n",
      " 1   genres                9025 non-null   object \n",
      " 2   original_title        9025 non-null   object \n",
      " 3   overview              9013 non-null   object \n",
      " 4   production_companies  9025 non-null   object \n",
      " 5   release_date          9025 non-null   object \n",
      " 6   runtime               9025 non-null   float64\n",
      " 7   spoken_languages      9025 non-null   object \n",
      " 8   vote_average          9025 non-null   float64\n",
      " 9   vote_count            9025 non-null   float64\n",
      "dtypes: float64(3), object(7)\n",
      "memory usage: 705.2+ KB\n"
     ]
    }
   ],
   "source": [
    "movies_metadata.info()"
   ]
  },
  {
   "cell_type": "code",
   "execution_count": 10,
   "metadata": {},
   "outputs": [],
   "source": [
    "#movies_metadata[movies_metadata['production_companies'].isna()]"
   ]
  },
  {
   "cell_type": "code",
   "execution_count": 11,
   "metadata": {},
   "outputs": [],
   "source": [
    "#movies_metadata.at[19729, 'production_companies'] = \"[{'name': 'Centurion'}, {'name':'Telescene Film Group Productions'}, {'name':'The Carousel Picture Company'}, {'name':'Vision View Entertainment'}]\"\n",
    "#movies_metadata.at[29502, 'production_companies'] = \"[{'name': 'Mardock Scramble Production Committee'}, {'name':'GoHands'}, {'name':'King Records'}]\"\n",
    "#movies_metadata.at[35586, 'production_companies'] = \"[{'name': 'Odyssey Media'}, {'name':'Pulser Productions'}, {'name':'Rogue State'}]\""
   ]
  },
  {
   "cell_type": "code",
   "execution_count": 12,
   "metadata": {},
   "outputs": [],
   "source": [
    "movies_metadata['runtime'] = movies_metadata['runtime'].apply(lambda x: x if x != 0 else runtime_median)\n",
    "movies_metadata['vote_average'] = movies_metadata['vote_average'].apply(lambda x: x if x != 0 else vote_avg_mean)\n",
    "movies_metadata['vote_count'] = movies_metadata['vote_count'].apply(lambda x: x if x != 0 else vote_count_median)\n",
    "\n",
    "# usefull for the large dataset version\n",
    "movies_metadata.fillna({'overview': 'NANULL'}, inplace=True) ## -----------------------------\n",
    "movies_metadata.fillna({'release_date': '9999'}, inplace=True) ## -----------------------------\n",
    "movies_metadata.fillna({'runtime': runtime_median}, inplace=True)\n",
    "movies_metadata.fillna({'spoken_languages': \"[{'name':'NANULL'}]\"}, inplace=True) ## -----------------------------\n",
    "movies_metadata.fillna({'vote_average': vote_avg_mean}, inplace=True)\n",
    "movies_metadata.fillna({'vote_count': vote_count_median}, inplace=True)"
   ]
  },
  {
   "cell_type": "code",
   "execution_count": 13,
   "metadata": {},
   "outputs": [
    {
     "data": {
      "text/html": [
       "<div>\n",
       "<style scoped>\n",
       "    .dataframe tbody tr th:only-of-type {\n",
       "        vertical-align: middle;\n",
       "    }\n",
       "\n",
       "    .dataframe tbody tr th {\n",
       "        vertical-align: top;\n",
       "    }\n",
       "\n",
       "    .dataframe thead th {\n",
       "        text-align: right;\n",
       "    }\n",
       "</style>\n",
       "<table border=\"1\" class=\"dataframe\">\n",
       "  <thead>\n",
       "    <tr style=\"text-align: right;\">\n",
       "      <th></th>\n",
       "      <th>adult</th>\n",
       "      <th>genres</th>\n",
       "      <th>production_companies</th>\n",
       "      <th>release_date</th>\n",
       "      <th>runtime</th>\n",
       "      <th>spoken_languages</th>\n",
       "      <th>title_and_overview</th>\n",
       "      <th>vote_weighted_average</th>\n",
       "    </tr>\n",
       "  </thead>\n",
       "  <tbody>\n",
       "    <tr>\n",
       "      <th>0</th>\n",
       "      <td>False</td>\n",
       "      <td>[Animation, Comedy, Family]</td>\n",
       "      <td>[Pixar Animation Studios]</td>\n",
       "      <td>1995</td>\n",
       "      <td>81.0</td>\n",
       "      <td>[English]</td>\n",
       "      <td>Toy Story Led by Woody, Andy's toys live happi...</td>\n",
       "      <td>7.6928</td>\n",
       "    </tr>\n",
       "    <tr>\n",
       "      <th>1</th>\n",
       "      <td>False</td>\n",
       "      <td>[Adventure, Fantasy, Family]</td>\n",
       "      <td>[TriStar Pictures, Teitler Film, Interscope Co...</td>\n",
       "      <td>1995</td>\n",
       "      <td>104.0</td>\n",
       "      <td>[English, Français]</td>\n",
       "      <td>Jumanji When siblings Judy and Peter discover ...</td>\n",
       "      <td>6.8938</td>\n",
       "    </tr>\n",
       "  </tbody>\n",
       "</table>\n",
       "</div>"
      ],
      "text/plain": [
       "   adult                        genres  \\\n",
       "0  False   [Animation, Comedy, Family]   \n",
       "1  False  [Adventure, Fantasy, Family]   \n",
       "\n",
       "                                production_companies  release_date  runtime  \\\n",
       "0                          [Pixar Animation Studios]          1995     81.0   \n",
       "1  [TriStar Pictures, Teitler Film, Interscope Co...          1995    104.0   \n",
       "\n",
       "      spoken_languages                                 title_and_overview  \\\n",
       "0            [English]  Toy Story Led by Woody, Andy's toys live happi...   \n",
       "1  [English, Français]  Jumanji When siblings Judy and Peter discover ...   \n",
       "\n",
       "   vote_weighted_average  \n",
       "0                 7.6928  \n",
       "1                 6.8938  "
      ]
     },
     "execution_count": 13,
     "metadata": {},
     "output_type": "execute_result"
    }
   ],
   "source": [
    "movies_metadata['title_and_overview'] = movies_metadata['original_title'] + \" \" + movies_metadata['overview']\n",
    "\n",
    "movies_metadata['genres'] = movies_metadata['genres'].apply(lambda x: [i['name'] for i in ast.literal_eval(x)])\n",
    "\n",
    "movies_metadata['production_companies'] = movies_metadata['production_companies'].apply(lambda x: [i['name'] for i in ast.literal_eval(x)])\n",
    "\n",
    "movies_metadata['release_date'] = movies_metadata['release_date'].apply(lambda x: int(x[:4]))\n",
    "release_date_median = movies_metadata[movies_metadata['release_date'] < 9999]['release_date'].median()\n",
    "movies_metadata['release_date'] = movies_metadata['release_date'].apply(lambda x: x if x != 9999 else release_date_median)\n",
    "\n",
    "movies_metadata['spoken_languages'] = movies_metadata['spoken_languages'].apply(lambda x: [i['name'] for i in ast.literal_eval(x)])\n",
    "movies_metadata['spoken_languages'] = movies_metadata['spoken_languages'].apply(lambda x: [l.replace('??????', 'NANULL').replace('?????', 'NANULL').replace('\\x9a', 'š') \n",
    "                                                                                           if len(l) > 0 else 'NANULL' \\\n",
    "                                                                                           for l in x])\n",
    "\n",
    "weighted_average = (movies_metadata['vote_average'] * movies_metadata['vote_count'] + 30 * vote_avg_mean) \\\n",
    "                    / (movies_metadata['vote_count'] + 30)\n",
    "movies_metadata['vote_weighted_average'] = round(weighted_average, 4)\n",
    "\n",
    "movies_metadata.drop(columns=['original_title', 'overview', 'vote_average', 'vote_count'], inplace=True)\n",
    "\n",
    "movies_metadata.head(2)"
   ]
  },
  {
   "cell_type": "code",
   "execution_count": 14,
   "metadata": {},
   "outputs": [
    {
     "data": {
      "text/html": [
       "<div>\n",
       "<style scoped>\n",
       "    .dataframe tbody tr th:only-of-type {\n",
       "        vertical-align: middle;\n",
       "    }\n",
       "\n",
       "    .dataframe tbody tr th {\n",
       "        vertical-align: top;\n",
       "    }\n",
       "\n",
       "    .dataframe thead th {\n",
       "        text-align: right;\n",
       "    }\n",
       "</style>\n",
       "<table border=\"1\" class=\"dataframe\">\n",
       "  <thead>\n",
       "    <tr style=\"text-align: right;\">\n",
       "      <th></th>\n",
       "      <th>tmdbId</th>\n",
       "      <th>cast</th>\n",
       "    </tr>\n",
       "  </thead>\n",
       "  <tbody>\n",
       "    <tr>\n",
       "      <th>0</th>\n",
       "      <td>862</td>\n",
       "      <td>[{'cast_id': 14, 'character': 'Woody (voice)',...</td>\n",
       "    </tr>\n",
       "    <tr>\n",
       "      <th>1</th>\n",
       "      <td>8844</td>\n",
       "      <td>[{'cast_id': 1, 'character': 'Alan Parrish', '...</td>\n",
       "    </tr>\n",
       "  </tbody>\n",
       "</table>\n",
       "</div>"
      ],
      "text/plain": [
       "   tmdbId                                               cast\n",
       "0     862  [{'cast_id': 14, 'character': 'Woody (voice)',...\n",
       "1    8844  [{'cast_id': 1, 'character': 'Alan Parrish', '..."
      ]
     },
     "execution_count": 14,
     "metadata": {},
     "output_type": "execute_result"
    }
   ],
   "source": [
    "credits = pd.read_csv(\"raw_data/credits.csv\")[['id', 'cast']]\n",
    "credits.drop_duplicates(subset='id', inplace=True)\n",
    "credits.rename(columns={'id': 'tmdbId'}, inplace=True)\n",
    "credits.head(2)"
   ]
  },
  {
   "cell_type": "code",
   "execution_count": 15,
   "metadata": {},
   "outputs": [
    {
     "data": {
      "text/plain": [
       "(45432, 2)"
      ]
     },
     "execution_count": 15,
     "metadata": {},
     "output_type": "execute_result"
    }
   ],
   "source": [
    "credits.shape"
   ]
  },
  {
   "cell_type": "code",
   "execution_count": 16,
   "metadata": {},
   "outputs": [
    {
     "data": {
      "text/plain": [
       "(9025, 2)"
      ]
     },
     "execution_count": 16,
     "metadata": {},
     "output_type": "execute_result"
    }
   ],
   "source": [
    "credits = credits[credits['tmdbId'].isin(original_movies_metadata['tmdbId'])]\n",
    "credits.shape"
   ]
  },
  {
   "cell_type": "code",
   "execution_count": 17,
   "metadata": {},
   "outputs": [
    {
     "data": {
      "text/html": [
       "<div>\n",
       "<style scoped>\n",
       "    .dataframe tbody tr th:only-of-type {\n",
       "        vertical-align: middle;\n",
       "    }\n",
       "\n",
       "    .dataframe tbody tr th {\n",
       "        vertical-align: top;\n",
       "    }\n",
       "\n",
       "    .dataframe thead th {\n",
       "        text-align: right;\n",
       "    }\n",
       "</style>\n",
       "<table border=\"1\" class=\"dataframe\">\n",
       "  <thead>\n",
       "    <tr style=\"text-align: right;\">\n",
       "      <th></th>\n",
       "      <th>tmdbId</th>\n",
       "      <th>cast</th>\n",
       "    </tr>\n",
       "  </thead>\n",
       "  <tbody>\n",
       "    <tr>\n",
       "      <th>0</th>\n",
       "      <td>862</td>\n",
       "      <td>[Tom Hanks, Tim Allen, Don Rickles, Jim Varney...</td>\n",
       "    </tr>\n",
       "    <tr>\n",
       "      <th>1</th>\n",
       "      <td>8844</td>\n",
       "      <td>[Robin Williams, Jonathan Hyde, Kirsten Dunst,...</td>\n",
       "    </tr>\n",
       "  </tbody>\n",
       "</table>\n",
       "</div>"
      ],
      "text/plain": [
       "   tmdbId                                               cast\n",
       "0     862  [Tom Hanks, Tim Allen, Don Rickles, Jim Varney...\n",
       "1    8844  [Robin Williams, Jonathan Hyde, Kirsten Dunst,..."
      ]
     },
     "execution_count": 17,
     "metadata": {},
     "output_type": "execute_result"
    }
   ],
   "source": [
    "credits['cast'] = credits['cast'].apply(lambda x: [i['name'] for i in ast.literal_eval(x)])\n",
    "credits.head(2)"
   ]
  },
  {
   "cell_type": "code",
   "execution_count": 18,
   "metadata": {},
   "outputs": [
    {
     "data": {
      "text/html": [
       "<div>\n",
       "<style scoped>\n",
       "    .dataframe tbody tr th:only-of-type {\n",
       "        vertical-align: middle;\n",
       "    }\n",
       "\n",
       "    .dataframe tbody tr th {\n",
       "        vertical-align: top;\n",
       "    }\n",
       "\n",
       "    .dataframe thead th {\n",
       "        text-align: right;\n",
       "    }\n",
       "</style>\n",
       "<table border=\"1\" class=\"dataframe\">\n",
       "  <thead>\n",
       "    <tr style=\"text-align: right;\">\n",
       "      <th></th>\n",
       "      <th>tmdbId</th>\n",
       "      <th>keywords</th>\n",
       "    </tr>\n",
       "  </thead>\n",
       "  <tbody>\n",
       "    <tr>\n",
       "      <th>0</th>\n",
       "      <td>862</td>\n",
       "      <td>[{'id': 931, 'name': 'jealousy'}, {'id': 4290,...</td>\n",
       "    </tr>\n",
       "    <tr>\n",
       "      <th>1</th>\n",
       "      <td>8844</td>\n",
       "      <td>[{'id': 10090, 'name': 'board game'}, {'id': 1...</td>\n",
       "    </tr>\n",
       "  </tbody>\n",
       "</table>\n",
       "</div>"
      ],
      "text/plain": [
       "   tmdbId                                           keywords\n",
       "0     862  [{'id': 931, 'name': 'jealousy'}, {'id': 4290,...\n",
       "1    8844  [{'id': 10090, 'name': 'board game'}, {'id': 1..."
      ]
     },
     "execution_count": 18,
     "metadata": {},
     "output_type": "execute_result"
    }
   ],
   "source": [
    "keywords = pd.read_csv(\"raw_data/keywords.csv\")\n",
    "keywords.drop_duplicates(subset='id', inplace=True)\n",
    "keywords.rename(columns={'id': 'tmdbId'}, inplace=True)\n",
    "keywords.head(2)"
   ]
  },
  {
   "cell_type": "code",
   "execution_count": 19,
   "metadata": {},
   "outputs": [
    {
     "data": {
      "text/plain": [
       "(45432, 2)"
      ]
     },
     "execution_count": 19,
     "metadata": {},
     "output_type": "execute_result"
    }
   ],
   "source": [
    "keywords.shape"
   ]
  },
  {
   "cell_type": "code",
   "execution_count": 20,
   "metadata": {},
   "outputs": [
    {
     "data": {
      "text/plain": [
       "(9025, 2)"
      ]
     },
     "execution_count": 20,
     "metadata": {},
     "output_type": "execute_result"
    }
   ],
   "source": [
    "keywords = keywords[keywords['tmdbId'].isin(original_movies_metadata['tmdbId'])]\n",
    "keywords.shape"
   ]
  },
  {
   "cell_type": "code",
   "execution_count": 21,
   "metadata": {},
   "outputs": [
    {
     "data": {
      "text/html": [
       "<div>\n",
       "<style scoped>\n",
       "    .dataframe tbody tr th:only-of-type {\n",
       "        vertical-align: middle;\n",
       "    }\n",
       "\n",
       "    .dataframe tbody tr th {\n",
       "        vertical-align: top;\n",
       "    }\n",
       "\n",
       "    .dataframe thead th {\n",
       "        text-align: right;\n",
       "    }\n",
       "</style>\n",
       "<table border=\"1\" class=\"dataframe\">\n",
       "  <thead>\n",
       "    <tr style=\"text-align: right;\">\n",
       "      <th></th>\n",
       "      <th>tmdbId</th>\n",
       "      <th>keywords</th>\n",
       "    </tr>\n",
       "  </thead>\n",
       "  <tbody>\n",
       "    <tr>\n",
       "      <th>0</th>\n",
       "      <td>862</td>\n",
       "      <td>[jealousy, toy, boy, friendship, friends, riva...</td>\n",
       "    </tr>\n",
       "    <tr>\n",
       "      <th>1</th>\n",
       "      <td>8844</td>\n",
       "      <td>[board game, disappearance, based on children'...</td>\n",
       "    </tr>\n",
       "  </tbody>\n",
       "</table>\n",
       "</div>"
      ],
      "text/plain": [
       "   tmdbId                                           keywords\n",
       "0     862  [jealousy, toy, boy, friendship, friends, riva...\n",
       "1    8844  [board game, disappearance, based on children'..."
      ]
     },
     "execution_count": 21,
     "metadata": {},
     "output_type": "execute_result"
    }
   ],
   "source": [
    "keywords['keywords'] = keywords['keywords'].apply(lambda x: [i['name'] for i in ast.literal_eval(x)])\n",
    "keywords.head(2)"
   ]
  },
  {
   "cell_type": "code",
   "execution_count": 22,
   "metadata": {},
   "outputs": [],
   "source": [
    "#all_g = set()\n",
    "#for v in movies_metadata['genres']:\n",
    "#    for g in v:\n",
    "#        all_g.add(g)"
   ]
  },
  {
   "cell_type": "code",
   "execution_count": 23,
   "metadata": {},
   "outputs": [],
   "source": [
    "def onehot_column(df, col, custom=None, delete_col=True, save_cols=False):\n",
    "    unique_counter = {}\n",
    "    for i, row in df.iterrows():\n",
    "        for value in row[col]:\n",
    "            if custom is None or value in custom:\n",
    "                unique_counter.setdefault(value, []).append(i)\n",
    "\n",
    "    if 'NANULL' in unique_counter.keys():\n",
    "        unique_counter.pop('NANULL')\n",
    "\n",
    "    onehot_df = pd.DataFrame(False, index=df.index, columns=unique_counter.keys())\n",
    "    for value, idx in unique_counter.items():\n",
    "        onehot_df.loc[idx, value] = True\n",
    "\n",
    "    if delete_col:\n",
    "        df.drop(columns=col, inplace=True)\n",
    "\n",
    "    if save_cols:\n",
    "        return csr_matrix(onehot_df), list(onehot_df.columns)\n",
    "    else:\n",
    "        return csr_matrix(onehot_df)"
   ]
  },
  {
   "cell_type": "code",
   "execution_count": 24,
   "metadata": {},
   "outputs": [],
   "source": [
    "top_prod_comp = {}\n",
    "for i, v in movies_metadata.iterrows():\n",
    "    for c in v['production_companies']:\n",
    "        top_prod_comp.setdefault(c, 0)\n",
    "        top_prod_comp[c] += 1\n",
    "top_prod_comp_keys = list(dict(sorted(top_prod_comp.items(), key=lambda item: item[1], reverse=True)))"
   ]
  },
  {
   "cell_type": "code",
   "execution_count": 25,
   "metadata": {},
   "outputs": [],
   "source": [
    "top_cast = {}\n",
    "for i, v in credits.iterrows():\n",
    "    for c in v['cast']:\n",
    "        top_cast.setdefault(c, 0)\n",
    "        top_cast[c] += 1\n",
    "top_cast_keys = list(dict(sorted(top_cast.items(), key=lambda item: item[1], reverse=True)))"
   ]
  },
  {
   "cell_type": "code",
   "execution_count": 26,
   "metadata": {},
   "outputs": [
    {
     "data": {
      "text/html": [
       "<div>\n",
       "<style scoped>\n",
       "    .dataframe tbody tr th:only-of-type {\n",
       "        vertical-align: middle;\n",
       "    }\n",
       "\n",
       "    .dataframe tbody tr th {\n",
       "        vertical-align: top;\n",
       "    }\n",
       "\n",
       "    .dataframe thead th {\n",
       "        text-align: right;\n",
       "    }\n",
       "</style>\n",
       "<table border=\"1\" class=\"dataframe\">\n",
       "  <thead>\n",
       "    <tr style=\"text-align: right;\">\n",
       "      <th></th>\n",
       "      <th>adult</th>\n",
       "      <th>genres</th>\n",
       "      <th>production_companies</th>\n",
       "      <th>release_date</th>\n",
       "      <th>runtime</th>\n",
       "      <th>spoken_languages</th>\n",
       "      <th>title_and_overview</th>\n",
       "      <th>vote_weighted_average</th>\n",
       "    </tr>\n",
       "  </thead>\n",
       "  <tbody>\n",
       "    <tr>\n",
       "      <th>0</th>\n",
       "      <td>False</td>\n",
       "      <td>[Animation, Comedy, Family]</td>\n",
       "      <td>[Pixar Animation Studios]</td>\n",
       "      <td>1995</td>\n",
       "      <td>81.0</td>\n",
       "      <td>[English]</td>\n",
       "      <td>Toy Story Led by Woody, Andy's toys live happi...</td>\n",
       "      <td>7.6928</td>\n",
       "    </tr>\n",
       "    <tr>\n",
       "      <th>1</th>\n",
       "      <td>False</td>\n",
       "      <td>[Adventure, Fantasy, Family]</td>\n",
       "      <td>[TriStar Pictures, Teitler Film, Interscope Co...</td>\n",
       "      <td>1995</td>\n",
       "      <td>104.0</td>\n",
       "      <td>[English, Français]</td>\n",
       "      <td>Jumanji When siblings Judy and Peter discover ...</td>\n",
       "      <td>6.8938</td>\n",
       "    </tr>\n",
       "  </tbody>\n",
       "</table>\n",
       "</div>"
      ],
      "text/plain": [
       "   adult                        genres  \\\n",
       "0  False   [Animation, Comedy, Family]   \n",
       "1  False  [Adventure, Fantasy, Family]   \n",
       "\n",
       "                                production_companies  release_date  runtime  \\\n",
       "0                          [Pixar Animation Studios]          1995     81.0   \n",
       "1  [TriStar Pictures, Teitler Film, Interscope Co...          1995    104.0   \n",
       "\n",
       "      spoken_languages                                 title_and_overview  \\\n",
       "0            [English]  Toy Story Led by Woody, Andy's toys live happi...   \n",
       "1  [English, Français]  Jumanji When siblings Judy and Peter discover ...   \n",
       "\n",
       "   vote_weighted_average  \n",
       "0                 7.6928  \n",
       "1                 6.8938  "
      ]
     },
     "execution_count": 26,
     "metadata": {},
     "output_type": "execute_result"
    }
   ],
   "source": [
    "movies_metadata.head(2)"
   ]
  },
  {
   "cell_type": "code",
   "execution_count": 27,
   "metadata": {},
   "outputs": [],
   "source": [
    "genres_onehot = onehot_column(movies_metadata, 'genres')\n",
    "prod_comp_onehot = onehot_column(movies_metadata, 'production_companies', custom=top_prod_comp_keys[:100])\n",
    "spoken_lang_onehot = onehot_column(movies_metadata, 'spoken_languages')\n",
    "cast_onehot = onehot_column(credits, 'cast', custom=top_cast_keys[:5000])\n",
    "keywords_onehot = onehot_column(keywords, 'keywords')"
   ]
  },
  {
   "cell_type": "code",
   "execution_count": 28,
   "metadata": {},
   "outputs": [
    {
     "data": {
      "text/html": [
       "<div>\n",
       "<style scoped>\n",
       "    .dataframe tbody tr th:only-of-type {\n",
       "        vertical-align: middle;\n",
       "    }\n",
       "\n",
       "    .dataframe tbody tr th {\n",
       "        vertical-align: top;\n",
       "    }\n",
       "\n",
       "    .dataframe thead th {\n",
       "        text-align: right;\n",
       "    }\n",
       "</style>\n",
       "<table border=\"1\" class=\"dataframe\">\n",
       "  <thead>\n",
       "    <tr style=\"text-align: right;\">\n",
       "      <th></th>\n",
       "      <th>adult</th>\n",
       "      <th>release_date</th>\n",
       "      <th>runtime</th>\n",
       "      <th>title_and_overview</th>\n",
       "      <th>vote_weighted_average</th>\n",
       "    </tr>\n",
       "  </thead>\n",
       "  <tbody>\n",
       "    <tr>\n",
       "      <th>0</th>\n",
       "      <td>False</td>\n",
       "      <td>(1992.0, 1997.0]</td>\n",
       "      <td>(61.0, 81.0]</td>\n",
       "      <td>Toy Story Led by Woody, Andy's toys live happi...</td>\n",
       "      <td>(7.5, 8.0]</td>\n",
       "    </tr>\n",
       "    <tr>\n",
       "      <th>1</th>\n",
       "      <td>False</td>\n",
       "      <td>(1992.0, 1997.0]</td>\n",
       "      <td>(101.0, 121.0]</td>\n",
       "      <td>Jumanji When siblings Judy and Peter discover ...</td>\n",
       "      <td>(6.5, 7.0]</td>\n",
       "    </tr>\n",
       "  </tbody>\n",
       "</table>\n",
       "</div>"
      ],
      "text/plain": [
       "   adult      release_date         runtime  \\\n",
       "0  False  (1992.0, 1997.0]    (61.0, 81.0]   \n",
       "1  False  (1992.0, 1997.0]  (101.0, 121.0]   \n",
       "\n",
       "                                  title_and_overview vote_weighted_average  \n",
       "0  Toy Story Led by Woody, Andy's toys live happi...            (7.5, 8.0]  \n",
       "1  Jumanji When siblings Judy and Peter discover ...            (6.5, 7.0]  "
      ]
     },
     "execution_count": 28,
     "metadata": {},
     "output_type": "execute_result"
    }
   ],
   "source": [
    "max_runtime = movies_metadata['runtime'].describe()['max']\n",
    "movies_metadata['runtime'] = pd.cut(movies_metadata['runtime'], np.arange(1, max_runtime+20, 20), include_lowest=True, precision=0)\n",
    "\n",
    "min_release_date, max_release_date = movies_metadata['release_date'].describe()['min'], movies_metadata['release_date'].describe()['max']\n",
    "movies_metadata['release_date'] = pd.cut(movies_metadata['release_date'], np.arange(min_release_date, max_release_date+5, 5), include_lowest=True, precision=0)\n",
    "\n",
    "movies_metadata['vote_weighted_average'] = pd.cut(movies_metadata['vote_weighted_average'], np.arange(1, 10.5, 0.5))\n",
    "\n",
    "movies_metadata.head(2)"
   ]
  },
  {
   "cell_type": "code",
   "execution_count": 29,
   "metadata": {},
   "outputs": [
    {
     "name": "stdout",
     "output_type": "stream",
     "text": [
      "<class 'pandas.core.frame.DataFrame'>\n",
      "RangeIndex: 9025 entries, 0 to 9024\n",
      "Data columns (total 5 columns):\n",
      " #   Column                 Non-Null Count  Dtype   \n",
      "---  ------                 --------------  -----   \n",
      " 0   adult                  9025 non-null   object  \n",
      " 1   release_date           9025 non-null   category\n",
      " 2   runtime                9025 non-null   category\n",
      " 3   title_and_overview     9025 non-null   object  \n",
      " 4   vote_weighted_average  9025 non-null   category\n",
      "dtypes: category(3), object(2)\n",
      "memory usage: 172.3+ KB\n"
     ]
    }
   ],
   "source": [
    "movies_metadata.info()"
   ]
  },
  {
   "cell_type": "code",
   "execution_count": 31,
   "metadata": {},
   "outputs": [
    {
     "data": {
      "text/plain": [
       "(9025, 9025)"
      ]
     },
     "execution_count": 31,
     "metadata": {},
     "output_type": "execute_result"
    }
   ],
   "source": [
    "stop_words_file = pd.read_csv(\"raw_data/ranksnl_oldgoogle.txt\", header=None)\n",
    "stop_words_set = set(w.strip() for w in stop_words_file[0])\n",
    "\n",
    "movies_metadata['title_and_overview'] = movies_metadata['title_and_overview'].apply(lambda x: \" \".join(set(x.lower().split(\" \")) - stop_words_set))\n",
    "\n",
    "tfidf = TfidfVectorizer(analyzer='word', ngram_range=(1, 3), stop_words=None)\n",
    "corpus = tfidf.fit_transform(movies_metadata['title_and_overview'])\n",
    "corpus_sims = cosine_similarity(corpus, corpus, dense_output=False)\n",
    "corpus_sims = corpus_sims.multiply(corpus_sims >= 0.009)\n",
    "\n",
    "movies_metadata.drop(columns='title_and_overview', inplace=True)\n",
    "\n",
    "corpus_sims.shape"
   ]
  },
  {
   "cell_type": "code",
   "execution_count": 392,
   "metadata": {},
   "outputs": [],
   "source": [
    "#corpus_sims_idxs = corpus_sims[0].argsort().flatten()[:-(10+1):-1]\n",
    "#corpus_sims_idxs[1:]"
   ]
  },
  {
   "cell_type": "code",
   "execution_count": 393,
   "metadata": {},
   "outputs": [],
   "source": [
    "## --------------------------------------------------------------------- ##"
   ]
  },
  {
   "cell_type": "code",
   "execution_count": 32,
   "metadata": {},
   "outputs": [
    {
     "data": {
      "text/plain": [
       "<Compressed Sparse Row sparse matrix of dtype 'float64'\n",
       "\twith 36100 stored elements and shape (9025, 62)>"
      ]
     },
     "execution_count": 32,
     "metadata": {},
     "output_type": "execute_result"
    }
   ],
   "source": [
    "ohe = OneHotEncoder()\n",
    "movies_metadata = ohe.fit_transform(movies_metadata)\n",
    "movies_metadata"
   ]
  },
  {
   "cell_type": "code",
   "execution_count": 33,
   "metadata": {},
   "outputs": [
    {
     "data": {
      "text/plain": [
       "<Compressed Sparse Row sparse matrix of dtype 'float64'\n",
       "\twith 55957 stored elements and shape (9025, 227)>"
      ]
     },
     "execution_count": 33,
     "metadata": {},
     "output_type": "execute_result"
    }
   ],
   "source": [
    "other_features = hstack([movies_metadata, prod_comp_onehot, spoken_lang_onehot])\n",
    "other_features"
   ]
  },
  {
   "cell_type": "code",
   "execution_count": 34,
   "metadata": {},
   "outputs": [
    {
     "data": {
      "text/plain": [
       "(9025, 9025)"
      ]
     },
     "execution_count": 34,
     "metadata": {},
     "output_type": "execute_result"
    }
   ],
   "source": [
    "other_features_sims = cosine_similarity(other_features, other_features, dense_output=False)\n",
    "other_features_sims = other_features_sims.multiply(other_features_sims >= 0.39)\n",
    "other_features_sims.shape"
   ]
  },
  {
   "cell_type": "code",
   "execution_count": 35,
   "metadata": {},
   "outputs": [
    {
     "data": {
      "text/plain": [
       "(9025, 9025)"
      ]
     },
     "execution_count": 35,
     "metadata": {},
     "output_type": "execute_result"
    }
   ],
   "source": [
    "genre_sims = cosine_similarity(genres_onehot, genres_onehot, dense_output=False)\n",
    "genre_sims = genre_sims.multiply(genre_sims >= 0.45)\n",
    "genre_sims.shape"
   ]
  },
  {
   "cell_type": "code",
   "execution_count": 36,
   "metadata": {},
   "outputs": [
    {
     "data": {
      "text/plain": [
       "(9025, 9025)"
      ]
     },
     "execution_count": 36,
     "metadata": {},
     "output_type": "execute_result"
    }
   ],
   "source": [
    "cast_sims = cosine_similarity(cast_onehot, cast_onehot, dense_output=False)\n",
    "cast_sims = cast_sims.multiply(cast_sims >= 0.04)\n",
    "cast_sims.shape"
   ]
  },
  {
   "cell_type": "code",
   "execution_count": 37,
   "metadata": {},
   "outputs": [
    {
     "data": {
      "text/plain": [
       "(9025, 9025)"
      ]
     },
     "execution_count": 37,
     "metadata": {},
     "output_type": "execute_result"
    }
   ],
   "source": [
    "keywords_sims = cosine_similarity(keywords_onehot, keywords_onehot, dense_output=False)\n",
    "keywords_sims = keywords_sims.multiply(keywords_sims >= 0.05)\n",
    "keywords_sims.shape"
   ]
  },
  {
   "cell_type": "code",
   "execution_count": 38,
   "metadata": {},
   "outputs": [],
   "source": [
    "## --------------------------------------------------------------------- ##"
   ]
  },
  {
   "cell_type": "code",
   "execution_count": 39,
   "metadata": {},
   "outputs": [],
   "source": [
    "cast_w = 0.115\n",
    "keywords_w = 0.205\n",
    "other_features_w = 0.06\n",
    "genre_w = 0.245\n",
    "corpus_w = 0.375\n",
    "\n",
    "assert cast_w + keywords_w + other_features_w + corpus_w + genre_w == 1.0, \\\n",
    "    f\"Sim weights need to add to 1 ({cast_w + keywords_w + other_features_w + corpus_w + genre_w})\""
   ]
  },
  {
   "cell_type": "code",
   "execution_count": 40,
   "metadata": {},
   "outputs": [],
   "source": [
    "content_sims = cast_sims * cast_w + keywords_sims * keywords_w + other_features_sims * other_features_w + corpus_sims * corpus_w + genre_sims * genre_w\n",
    "# 0.05 / 0.65 / 0.3 || 0.1 / 0.275 / 0.625"
   ]
  },
  {
   "cell_type": "code",
   "execution_count": 403,
   "metadata": {},
   "outputs": [],
   "source": [
    "#K = 10\n",
    "#results = content_sims[46].argsort().flatten()[:-(K+2):-1][1:]"
   ]
  },
  {
   "cell_type": "code",
   "execution_count": 404,
   "metadata": {},
   "outputs": [],
   "source": [
    "#original_movies_metadata['original_title'].iloc[results]"
   ]
  },
  {
   "cell_type": "markdown",
   "metadata": {},
   "source": [
    "-----"
   ]
  },
  {
   "cell_type": "code",
   "execution_count": 41,
   "metadata": {},
   "outputs": [],
   "source": [
    "# def make_GBAMatrix(M):\n",
    "#     if not isinstance(M, csr_matrix):\n",
    "#         M = M.tocsr()\n",
    "#         \n",
    "#     global_mean = np.mean(M.data)\n",
    "# \n",
    "#     row_means = []\n",
    "#     for i in range(M.shape[0]):\n",
    "#         start_idx = M.indptr[i]\n",
    "#         end_idx = M.indptr[i+1]\n",
    "#         row_data = M.data[start_idx:end_idx]\n",
    "#         if len(row_data) > 0:\n",
    "#             row_means.append(np.mean(row_data))\n",
    "#     row_means = np.array(row_means)\n",
    "#     rows_diff = row_means - global_mean\n",
    "# \n",
    "#     M = M.tocsc()\n",
    "#     col_means = []\n",
    "#     for i in range(M.shape[1]):\n",
    "#         start_idx = M.indptr[i]\n",
    "#         end_idx = M.indptr[i+1]\n",
    "#         col_data = M.data[start_idx:end_idx]\n",
    "#         if len(col_data) > 0:\n",
    "#             col_means.append(np.mean(col_data))\n",
    "#     col_means = np.array(col_means)\n",
    "#     cols_diff = col_means - global_mean\n",
    "# \n",
    "#     M = M.tocsr()\n",
    "#     return global_mean, rows_diff, cols_diff\n",
    "\n",
    "\n",
    "def RowCenterMatrix(M):\n",
    "    for i in range(M.shape[0]):\n",
    "        start_idx = M.indptr[i]\n",
    "        end_idx = M.indptr[i+1]\n",
    "        row_data = M.data[start_idx:end_idx]\n",
    "\n",
    "        if len(row_data) > 0:\n",
    "            mean = np.mean(row_data)\n",
    "            M.data[start_idx:end_idx] -= mean\n",
    "\n",
    "    return M\n",
    "\n",
    "\n",
    "def CosSim_Matrix(M):\n",
    "    M_dot = M.dot(M.T)\n",
    "    shape = M_dot.shape\n",
    "    \n",
    "    norms = np.sqrt(M.multiply(M).sum(axis=1)).A1\n",
    "    norms[norms < 1e-6] = 1e-6\n",
    "\n",
    "    # Convert the dot product matrix to COO format for element-wise operations\n",
    "    M_dot = M_dot.tocoo()\n",
    "    gc.collect()\n",
    "    row, col, data = M_dot.row, M_dot.col, M_dot.data\n",
    "    # Perform element-wise division by norms without creating a dense outer product matrix\n",
    "    new_data = data / (norms[row] * norms[col])\n",
    "    del M_dot, norms, data\n",
    "    gc.collect()\n",
    "\n",
    "    # Create a new sparse matrix with the divided values\n",
    "    cossim = coo_matrix((new_data, (row, col)), shape=shape)\n",
    "    del M, row, col\n",
    "    gc.collect()\n",
    "    \n",
    "    return cossim.tocsr()\n",
    "\n",
    "\n",
    "# def estimate_score(mat, SM, gba, nn, row, col):\n",
    "#     N, _ = mat.shape\n",
    "# \n",
    "#     sims = list(zip(SM[row].toarray().flatten(), range(N)))\n",
    "#     sims.sort(reverse=True)\n",
    "#     \n",
    "#     cnt, S, Ssims = 0, 0, 0\n",
    "#     for  sim, idx in sims[1:]:\n",
    "#         if (mat[idx, col] != 0) and (sim > 0) and (cnt <= nn):\n",
    "#             r = gba[0] + gba[1][idx] + gba[2][col]\n",
    "#             S += sim * (mat[idx, col] - r)\n",
    "#             Ssims += sim\n",
    "#             cnt += 1\n",
    "#     \n",
    "#     r = gba[0] + gba[1][row] + gba[2][col]\n",
    "# \n",
    "#     return r if Ssims <= 0 else r + S / Ssims\n"
   ]
  },
  {
   "cell_type": "code",
   "execution_count": 42,
   "metadata": {},
   "outputs": [],
   "source": [
    "movie_mappings = {m: i for i, m in enumerate(ratings['movieId'].unique())}"
   ]
  },
  {
   "cell_type": "code",
   "execution_count": 43,
   "metadata": {},
   "outputs": [
    {
     "data": {
      "text/html": [
       "<div>\n",
       "<style scoped>\n",
       "    .dataframe tbody tr th:only-of-type {\n",
       "        vertical-align: middle;\n",
       "    }\n",
       "\n",
       "    .dataframe tbody tr th {\n",
       "        vertical-align: top;\n",
       "    }\n",
       "\n",
       "    .dataframe thead th {\n",
       "        text-align: right;\n",
       "    }\n",
       "</style>\n",
       "<table border=\"1\" class=\"dataframe\">\n",
       "  <thead>\n",
       "    <tr style=\"text-align: right;\">\n",
       "      <th></th>\n",
       "      <th>rating</th>\n",
       "      <th>userId</th>\n",
       "      <th>movieId</th>\n",
       "      <th>movieId_mapping</th>\n",
       "    </tr>\n",
       "  </thead>\n",
       "  <tbody>\n",
       "    <tr>\n",
       "      <th>18633</th>\n",
       "      <td>4.5</td>\n",
       "      <td>124</td>\n",
       "      <td>1</td>\n",
       "      <td>0</td>\n",
       "    </tr>\n",
       "    <tr>\n",
       "      <th>7142</th>\n",
       "      <td>4.0</td>\n",
       "      <td>43</td>\n",
       "      <td>1</td>\n",
       "      <td>0</td>\n",
       "    </tr>\n",
       "    <tr>\n",
       "      <th>70088</th>\n",
       "      <td>3.0</td>\n",
       "      <td>484</td>\n",
       "      <td>1</td>\n",
       "      <td>0</td>\n",
       "    </tr>\n",
       "    <tr>\n",
       "      <th>46068</th>\n",
       "      <td>4.0</td>\n",
       "      <td>333</td>\n",
       "      <td>1</td>\n",
       "      <td>0</td>\n",
       "    </tr>\n",
       "    <tr>\n",
       "      <th>51144</th>\n",
       "      <td>4.0</td>\n",
       "      <td>380</td>\n",
       "      <td>1</td>\n",
       "      <td>0</td>\n",
       "    </tr>\n",
       "  </tbody>\n",
       "</table>\n",
       "</div>"
      ],
      "text/plain": [
       "       rating  userId  movieId  movieId_mapping\n",
       "18633     4.5     124        1                0\n",
       "7142      4.0      43        1                0\n",
       "70088     3.0     484        1                0\n",
       "46068     4.0     333        1                0\n",
       "51144     4.0     380        1                0"
      ]
     },
     "execution_count": 43,
     "metadata": {},
     "output_type": "execute_result"
    }
   ],
   "source": [
    "ratings['movieId_mapping'] = ratings['movieId'].map(movie_mappings)\n",
    "ratings.head()"
   ]
  },
  {
   "cell_type": "code",
   "execution_count": 44,
   "metadata": {},
   "outputs": [
    {
     "data": {
      "text/plain": [
       "<Compressed Sparse Row sparse matrix of dtype 'float64'\n",
       "\twith 99810 stored elements and shape (9025, 671)>"
      ]
     },
     "execution_count": 44,
     "metadata": {},
     "output_type": "execute_result"
    }
   ],
   "source": [
    "ii_matrix = csr_matrix((ratings['rating'], (ratings['movieId_mapping'], ratings['userId']-1)))\n",
    "ii_matrix"
   ]
  },
  {
   "cell_type": "code",
   "execution_count": 45,
   "metadata": {},
   "outputs": [
    {
     "data": {
      "text/plain": [
       "<Compressed Sparse Row sparse matrix of dtype 'float64'\n",
       "\twith 14896786 stored elements and shape (9025, 9025)>"
      ]
     },
     "execution_count": 45,
     "metadata": {},
     "output_type": "execute_result"
    }
   ],
   "source": [
    "ii_matrix = RowCenterMatrix(ii_matrix)\n",
    "ii_matrix = CosSim_Matrix(ii_matrix)\n",
    "ii_matrix"
   ]
  },
  {
   "cell_type": "code",
   "execution_count": 410,
   "metadata": {},
   "outputs": [],
   "source": [
    "#K = 10\n",
    "#results = ii_matrix.todense()[1].argsort().A1[:-(K+2):-1][1:]\n",
    "#results_mapped = [idx for result in results for idx, mapping in movie_mappings.items() if mapping == result]"
   ]
  },
  {
   "cell_type": "code",
   "execution_count": 411,
   "metadata": {},
   "outputs": [],
   "source": [
    "#original_movies_metadata['original_title'][original_movies_metadata['movieId'].isin(results_mapped)]"
   ]
  },
  {
   "cell_type": "markdown",
   "metadata": {},
   "source": [
    "---"
   ]
  },
  {
   "cell_type": "code",
   "execution_count": 46,
   "metadata": {},
   "outputs": [],
   "source": [
    "content_w = 0.65\n",
    "cf_w = 0.35\n",
    "\n",
    "assert content_w + cf_w == 1.0, f\"Sim weights need to add to 1 ({content_w + cf_w})\""
   ]
  },
  {
   "cell_type": "code",
   "execution_count": 47,
   "metadata": {},
   "outputs": [],
   "source": [
    "final_sims = content_sims * content_w + ii_matrix * cf_w   # 0.35 / 0.65"
   ]
  },
  {
   "cell_type": "code",
   "execution_count": 414,
   "metadata": {},
   "outputs": [],
   "source": [
    "#final = final_sims[1].argsort().A1[:-(K+2):-1][1:]\n",
    "#original_movies_metadata['original_title'].iloc[final]"
   ]
  },
  {
   "cell_type": "code",
   "execution_count": 48,
   "metadata": {},
   "outputs": [
    {
     "data": {
      "text/plain": [
       "2501           Toy Story 2\n",
       "7506           Toy Story 3\n",
       "1862          A Bug's Life\n",
       "3795        Monsters, Inc.\n",
       "4595          Finding Nemo\n",
       "328          The Lion King\n",
       "8979              Zootopia\n",
       "8825            Inside Out\n",
       "8993          Finding Dory\n",
       "912     The Wrong Trousers\n",
       "Name: original_title, dtype: object"
      ]
     },
     "execution_count": 48,
     "metadata": {},
     "output_type": "execute_result"
    }
   ],
   "source": [
    "I = 0\n",
    "K = 10\n",
    "\n",
    "final_sims_dense = final_sims.getrow(I).todense()\n",
    "final = final_sims_dense.argsort().A1[:-(K+2):-1][1:]\n",
    "original_movies_metadata['original_title'].iloc[final]"
   ]
  },
  {
   "cell_type": "markdown",
   "metadata": {},
   "source": [
    "---"
   ]
  },
  {
   "cell_type": "markdown",
   "metadata": {},
   "source": [
    "##### TODO: Turn sims to sparse output, set threshold for zeros -> save memory"
   ]
  },
  {
   "cell_type": "code",
   "execution_count": 532,
   "metadata": {},
   "outputs": [],
   "source": [
    "#def min_sim_from_top_sims(matrix, top_k=30, title=\"\"):\n",
    "#    min_sim = np.inf\n",
    "#    for sim in matrix:\n",
    "#        top_sims = sorted(sim.flatten(), reverse=True)[:top_k]\n",
    "#        lowest_sim = top_sims[-1]\n",
    "#        i = -2\n",
    "#        if lowest_sim == 0.0:\n",
    "#            while lowest_sim == 0.0 and i <= -len(top_sims):\n",
    "#                lowest_sim = top_sims[i]\n",
    "#                i -= 1\n",
    "#        elif lowest_sim < min_sim and lowest_sim != 0.0:\n",
    "#            min_sim = lowest_sim\n",
    "#    if title != \"\":\n",
    "#        title = f\"for matrix {title}\"\n",
    "#    return print(f\"Minimum similarity score in the top {top_k} most similar items {title}   ->   {min_sim}\\n\")"
   ]
  },
  {
   "cell_type": "code",
   "execution_count": 449,
   "metadata": {},
   "outputs": [
    {
     "name": "stdout",
     "output_type": "stream",
     "text": [
      "Minimum similarity score in the top 30 most similar items for matrix GENRE   ->   0.4999999999999999\n",
      "\n",
      "Minimum similarity score in the top 30 most similar items for matrix CORPUS   ->   0.009983781003186835\n",
      "\n",
      "Minimum similarity score in the top 30 most similar items for matrix KEYWORDS   ->   0.051434449987363975\n",
      "\n",
      "Minimum similarity score in the top 30 most similar items for matrix CAST   ->   0.062017367294604234\n",
      "\n",
      "Minimum similarity score in the top 30 most similar items for matrix OTHER FEATURES   ->   0.39999999999999997\n",
      "\n"
     ]
    }
   ],
   "source": [
    "#min_sim_from_top_sims(genre_sims, title=\"GENRE\")\n",
    "#min_sim_from_top_sims(corpus_sims, title=\"CORPUS\")\n",
    "#min_sim_from_top_sims(keywords_sims, title=\"KEYWORDS\")\n",
    "#min_sim_from_top_sims(cast_sims, title=\"CAST\")\n",
    "#min_sim_from_top_sims(other_features_sims, title=\"OTHER FEATURES\")"
   ]
  },
  {
   "cell_type": "code",
   "execution_count": null,
   "metadata": {},
   "outputs": [],
   "source": [
    "# 0.450\n",
    "# 0.009\n",
    "# 0.050\n",
    "# 0.040\n",
    "# 0.390"
   ]
  },
  {
   "cell_type": "code",
   "execution_count": null,
   "metadata": {},
   "outputs": [],
   "source": [
    "#import pickle\n",
    "#\n",
    "#pickle1 = pickle.dumps(csr_matrix(final_sims))\n",
    "#pickle2 = pickle.dumps(csr_matrix(final_sims2))\n",
    "#\n",
    "#memory_size_bytes1 = len(pickle1)\n",
    "#print(f\"Memory size using pickle: {memory_size_bytes1 / 1024**2:.2f} MB\")\n",
    "#memory_size_bytes2 = len(pickle2)\n",
    "#print(f\"Memory size using pickle: {memory_size_bytes2 / 1024**2:.2f} MB\")"
   ]
  }
 ],
 "metadata": {
  "kernelspec": {
   "display_name": ".venv",
   "language": "python",
   "name": "python3"
  },
  "language_info": {
   "codemirror_mode": {
    "name": "ipython",
    "version": 3
   },
   "file_extension": ".py",
   "mimetype": "text/x-python",
   "name": "python",
   "nbconvert_exporter": "python",
   "pygments_lexer": "ipython3",
   "version": "3.12.1"
  }
 },
 "nbformat": 4,
 "nbformat_minor": 2
}
